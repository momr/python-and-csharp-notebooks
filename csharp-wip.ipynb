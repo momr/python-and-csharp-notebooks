{
 "cells": [
  {
   "attachments": {},
   "cell_type": "markdown",
   "metadata": {},
   "source": [
    "# Not working yet"
   ]
  },
  {
   "cell_type": "code",
   "execution_count": null,
   "metadata": {
    "dotnet_interactive": {
     "language": "csharp"
    },
    "polyglot_notebook": {
     "kernelName": "csharp"
    },
    "vscode": {
     "languageId": "polyglot-notebook"
    }
   },
   "outputs": [],
   "source": [
    "#r \"nuget: Torch.NET, 1.0.0\""
   ]
  },
  {
   "cell_type": "code",
   "execution_count": null,
   "metadata": {
    "dotnet_interactive": {
     "language": "csharp"
    },
    "polyglot_notebook": {
     "kernelName": "csharp"
    },
    "vscode": {
     "languageId": "polyglot-notebook"
    }
   },
   "outputs": [],
   "source": [
    "using Torch;\n",
    "\n",
    "int matrix_size = 32 * 512;\n",
    "var x = new Tensor(matrix_size, matrix_size); x.Normal_();\n",
    "var y = new Tensor(matrix_size, matrix_size); y.Normal_();\n",
    "\n",
    "var watch = Stopwatch.StartNew();\n",
    "var result_cpu = x.Matmul(y);\n",
    "watch.Stop();\n",
    "var elapsedMs = watch.ElapsedMilliseconds;\n",
    "\n",
    "Console.WriteLine(\"Time taken:\" + elapsedMs + \"ms\");"
   ]
  }
 ],
 "metadata": {
  "kernelspec": {
   "display_name": "Python 3",
   "language": "python",
   "name": "python3"
  },
  "language_info": {
   "name": "python",
   "version": "3.8.12 (default, Jan  7 2022, 08:10:44) \n[Clang 13.0.0 (clang-1300.0.29.30)]"
  },
  "orig_nbformat": 4,
  "vscode": {
   "interpreter": {
    "hash": "ad671de6b5d526bb110954f04fa0021cd0521751ccbd5cedbfc214eef903c6fd"
   }
  }
 },
 "nbformat": 4,
 "nbformat_minor": 2
}
