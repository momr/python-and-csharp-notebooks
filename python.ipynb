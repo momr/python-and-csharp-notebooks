{
 "cells": [
  {
   "attachments": {},
   "cell_type": "markdown",
   "metadata": {},
   "source": [
    "# Power of Python\n"
   ]
  },
  {
   "cell_type": "markdown",
   "metadata": {},
   "source": [
    "\n",
    "## 1. Performance\n",
    "\n",
    "please the full video by mCoding channel here: <https://youtu.be/Qgevy75co8c>"
   ]
  },
  {
   "cell_type": "code",
   "execution_count": 50,
   "metadata": {},
   "outputs": [],
   "source": [
    "from timeit import timeit"
   ]
  },
  {
   "cell_type": "code",
   "execution_count": 51,
   "metadata": {},
   "outputs": [
    {
     "name": "stdout",
     "output_type": "stream",
     "text": [
      "while loop:  4.200552749999588\n",
      "for loop:  2.30837020799936\n"
     ]
    }
   ],
   "source": [
    "def while_loop(n=100_000_000):\n",
    "    i = 0\n",
    "    s = 0\n",
    "    while i < n:\n",
    "        s += i\n",
    "        i += 1\n",
    "    return s\n",
    "\n",
    "\n",
    "def for_loop(n=100_000_000):\n",
    "    s = 0\n",
    "    for i in range(n):\n",
    "        s += i\n",
    "    return s\n",
    "\n",
    "print('while loop: ', timeit(while_loop, number=1))\n",
    "print('for loop: ', timeit(for_loop, number=1))\n"
   ]
  },
  {
   "cell_type": "code",
   "execution_count": 52,
   "metadata": {},
   "outputs": [
    {
     "name": "stdout",
     "output_type": "stream",
     "text": [
      "built-in sum:  0.9961967089993777\n"
     ]
    }
   ],
   "source": [
    "def python_sum(n=100_000_000):\n",
    "    return sum(range(n))\n",
    "    \n",
    "print('built-in sum: ', timeit(python_sum, number=1))"
   ]
  },
  {
   "cell_type": "code",
   "execution_count": 53,
   "metadata": {},
   "outputs": [
    {
     "name": "stdout",
     "output_type": "stream",
     "text": [
      "numpy sum:  0.11825841599966225\n"
     ]
    }
   ],
   "source": [
    "import numpy as np\n",
    "\n",
    "def numpy_sum(n=100_000_000):\n",
    "    return np.sum(np.arange(n))\n",
    "\n",
    "numpy_value = numpy_sum()\n",
    "\n",
    "print('numpy sum: ', timeit(numpy_sum, number=1))"
   ]
  },
  {
   "cell_type": "code",
   "execution_count": 54,
   "metadata": {},
   "outputs": [
    {
     "name": "stdout",
     "output_type": "stream",
     "text": [
      "Torch sum:  0.09369158299978153\n"
     ]
    }
   ],
   "source": [
    "import torch\n",
    "\n",
    "def torch_sum(n=100_000_000):\n",
    "    return torch.sum(torch.from_numpy(np.arange(n))).item()\n",
    "\n",
    "torch_value = torch_sum()\n",
    "\n",
    "assert torch_value == numpy_value, f\"Error: both sums are not equal, torch value is {torch_value}, while expected value is {numpy_value}, delta = {numpy_value - torch_value}\"\n",
    "\n",
    "print('Torch sum: ', timeit(torch_sum, number=1))"
   ]
  },
  {
   "cell_type": "code",
   "execution_count": 55,
   "metadata": {},
   "outputs": [
    {
     "name": "stdout",
     "output_type": "stream",
     "text": [
      "math sum:  6.669997674180195e-07\n"
     ]
    }
   ],
   "source": [
    "def math_sum(n=100_000_000):\n",
    "    return (n * (n - 1)) // 2\n",
    "\n",
    "assert math_sum() == numpy_value, \"Error: both sums are not equal\"\n",
    "\n",
    "print('math sum: ', timeit(math_sum, number=1))"
   ]
  },
  {
   "attachments": {},
   "cell_type": "markdown",
   "metadata": {},
   "source": [
    "## 2. Type Hints\n",
    "\n",
    "For more details, see: \n",
    "1. <https://docs.python.org/3/library/typing.html>\n",
    "1. <https://typing.readthedocs.io/en/latest/>\n",
    "   - <https://typing.readthedocs.io/en/latest/source/quality.html>\n",
    "1. <https://github.com/nbQA-dev/nbQA>"
   ]
  },
  {
   "cell_type": "code",
   "execution_count": 3,
   "metadata": {},
   "outputs": [],
   "source": [
    "def bar(x: int) -> str:\n",
    "    return str(x)\n",
    "\n",
    "bar(42)\n",
    "bar(\"42\")\n",
    "# bar(\"42\")  # type: ignore [arg-type]\n",
    "# bar(y=42)  # type: ignore [call-arg]\n",
    "r1: str = bar(42)\n",
    "r2: int = bar(42)\n",
    "# r2: int = bar(42)  # type: ignore [assignment]"
   ]
  },
  {
   "cell_type": "code",
   "execution_count": 6,
   "metadata": {},
   "outputs": [
    {
     "name": "stdout",
     "output_type": "stream",
     "text": [
      "python.ipynb:cell_7:5: \u001b[1m\u001b[31merror:\u001b[m Argument 1 to \u001b[m\u001b[1m\"bar\"\u001b[m has incompatible type \u001b[m\u001b[1m\"str\"\u001b[m; expected \u001b[m\u001b[1m\"int\"\u001b[m  \u001b[m\u001b[33m[arg-type]\u001b[m\n",
      "python.ipynb:cell_7:9: \u001b[1m\u001b[31merror:\u001b[m Incompatible types in assignment (expression has type \u001b[m\u001b[1m\"str\"\u001b[m, variable has type \u001b[m\u001b[1m\"int\"\u001b[m)  \u001b[m\u001b[33m[assignment]\u001b[m\n",
      "\u001b[1m\u001b[31mFound 2 errors in 1 file (checked 1 source file)\u001b[m\n"
     ]
    }
   ],
   "source": [
    "!nbqa mypy python.ipynb"
   ]
  },
  {
   "cell_type": "code",
   "execution_count": null,
   "metadata": {},
   "outputs": [],
   "source": []
  }
 ],
 "metadata": {
  "kernelspec": {
   "display_name": "Python 3",
   "language": "python",
   "name": "python3"
  },
  "language_info": {
   "codemirror_mode": {
    "name": "ipython",
    "version": 3
   },
   "file_extension": ".py",
   "mimetype": "text/x-python",
   "name": "python",
   "nbconvert_exporter": "python",
   "pygments_lexer": "ipython3",
   "version": "3.11.0 | packaged by conda-forge | (main, Jan 14 2023, 12:26:40) [Clang 14.0.6 ]"
  },
  "orig_nbformat": 4,
  "vscode": {
   "interpreter": {
    "hash": "53c1e659b7c781054f029a6325693e3d32cfc5e9dff029ba5ea804479bc4c3b4"
   }
  }
 },
 "nbformat": 4,
 "nbformat_minor": 2
}
