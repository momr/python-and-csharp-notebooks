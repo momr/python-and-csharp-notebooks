{
 "cells": [
  {
   "attachments": {},
   "cell_type": "markdown",
   "metadata": {
    "dotnet_interactive": {
     "language": "csharp"
    },
    "polyglot_notebook": {
     "kernelName": "csharp"
    }
   },
   "source": [
    "# Pytorch using Metal backend"
   ]
  },
  {
   "attachments": {},
   "cell_type": "markdown",
   "metadata": {
    "dotnet_interactive": {
     "language": "csharp"
    },
    "polyglot_notebook": {
     "kernelName": "csharp"
    }
   },
   "source": [
    "See the following links:\n",
    "\n",
    "1. <https://pytorch.org/docs/master/notes/mps.html>\n",
    "1. <https://stackoverflow.com/questions/73583061/what-is-the-synchronise-function-for-mac-mps>"
   ]
  },
  {
   "cell_type": "code",
   "execution_count": 1,
   "metadata": {
    "dotnet_interactive": {
     "language": "csharp"
    },
    "polyglot_notebook": {
     "kernelName": "csharp"
    }
   },
   "outputs": [],
   "source": [
    "import torch\n",
    "\n",
    "# Check that MPS is available\n",
    "if not torch.backends.mps.is_available():\n",
    "    if not torch.backends.mps.is_built():\n",
    "        print(\"MPS not available because the current PyTorch install was not \"\n",
    "              \"built with MPS enabled.\")\n",
    "    else:\n",
    "        print(\"MPS not available because the current MacOS version is not 12.3+ \"\n",
    "              \"and/or you do not have an MPS-enabled device on this machine.\")\n",
    "\n",
    "else:\n",
    "    mps_device = torch.device(\"mps\")\n",
    "\n",
    "    # Create a Tensor directly on the mps device\n",
    "    x = torch.ones(5, device=mps_device)\n",
    "    # Or\n",
    "    x = torch.ones(5, device=\"mps\")\n",
    "\n",
    "    # Any operation happens on the GPU\n",
    "    y = x * 2"
   ]
  },
  {
   "cell_type": "code",
   "execution_count": 2,
   "metadata": {
    "dotnet_interactive": {
     "language": "csharp"
    },
    "polyglot_notebook": {
     "kernelName": "csharp"
    }
   },
   "outputs": [
    {
     "name": "stdout",
     "output_type": "stream",
     "text": [
      "using mps device\n",
      "***********cpu speed***************\n",
      "36.39276432991028\n",
      "verify device:  cpu\n",
      "***********mps speed***************\n",
      "0.020927906036376953\n",
      "verify device:  mps:0\n"
     ]
    }
   ],
   "source": [
    "import torch\n",
    "if torch.has_mps:\n",
    "    device = torch.device(\"mps\")\n",
    "else:\n",
    "    device = torch.device(\"cpu\")\n",
    "\n",
    "print(\"using\", device, \"device\")\n",
    "\n",
    "import time\n",
    "\n",
    "matrix_size = 32*512\n",
    "\n",
    "x = torch.randn(matrix_size, matrix_size)\n",
    "y = torch.randn(matrix_size, matrix_size)\n",
    "\n",
    "print(\"***********cpu speed***************\")\n",
    "start = time.time()\n",
    "result_cpu = torch.matmul(x,y)\n",
    "print(time.time()-start)\n",
    "print(\"verify device: \", result_cpu.device)\n",
    "\n",
    "\n",
    "x_mps = x.to(device)\n",
    "y_mps = y.to(device)\n",
    "\n",
    "print(\"***********mps speed***************\")\n",
    "start = time.time()\n",
    "result_mps = torch.matmul(x_mps,y_mps)\n",
    "print(time.time()-start)\n",
    "print(\"verify device: \", result_mps.device)\n",
    "\n",
    "assert torch.all(result_mps.eq(result_mps)) == True"
   ]
  },
  {
   "cell_type": "code",
   "execution_count": 3,
   "metadata": {
    "dotnet_interactive": {
     "language": "csharp"
    },
    "polyglot_notebook": {
     "kernelName": "csharp"
    }
   },
   "outputs": [
    {
     "name": "stdout",
     "output_type": "stream",
     "text": [
      "numpy sum:  0.28134358299939777\n"
     ]
    }
   ],
   "source": [
    "from timeit import timeit\n",
    "import numpy as np\n",
    "\n",
    "def numpy_sum(n=100_000_000):\n",
    "    return np.sum(np.arange(n))\n",
    "\n",
    "numpy_value = numpy_sum()\n",
    "\n",
    "print('numpy sum: ', timeit(numpy_sum, number=1))"
   ]
  },
  {
   "cell_type": "code",
   "execution_count": 4,
   "metadata": {
    "dotnet_interactive": {
     "language": "csharp"
    },
    "polyglot_notebook": {
     "kernelName": "csharp"
    }
   },
   "outputs": [
    {
     "name": "stdout",
     "output_type": "stream",
     "text": [
      "Torch sum:  0.21476745799918717\n"
     ]
    }
   ],
   "source": [
    "import torch\n",
    "\n",
    "def torch_sum(n=100_000_000):\n",
    "    x = torch.from_numpy(np.arange(n))\n",
    "    x.to(torch.device(\"mps\"))\n",
    "    return torch.sum(x).item()\n",
    "\n",
    "torch_value = torch_sum()\n",
    "\n",
    "assert torch_value == numpy_value, f\"Error: both sums are not equal, torch value is {torch_value}, while expected value is {numpy_value}, delta = {numpy_value - torch_value}\"\n",
    "\n",
    "print('Torch sum: ', timeit(torch_sum, number=1))"
   ]
  }
 ],
 "metadata": {
  "kernelspec": {
   "display_name": "Python 3",
   "language": "python",
   "name": "python3"
  },
  "language_info": {
   "codemirror_mode": {
    "name": "ipython",
    "version": 3
   },
   "file_extension": ".py",
   "mimetype": "text/x-python",
   "name": "python",
   "nbconvert_exporter": "python",
   "pygments_lexer": "ipython3",
   "version": "3.11.0"
  },
  "polyglot_notebook": {
   "kernelInfo": {
    "defaultKernelName": "csharp",
    "items": [
     {
      "aliases": [],
      "name": "csharp"
     },
     {
      "aliases": [],
      "languageName": null,
      "name": ".NET"
     },
     {
      "aliases": [
       "frontend"
      ],
      "languageName": null,
      "name": "vscode"
     }
    ]
   }
  },
  "vscode": {
   "interpreter": {
    "hash": "53c1e659b7c781054f029a6325693e3d32cfc5e9dff029ba5ea804479bc4c3b4"
   }
  }
 },
 "nbformat": 4,
 "nbformat_minor": 2
}
