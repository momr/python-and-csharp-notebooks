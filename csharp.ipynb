{
 "cells": [
  {
   "cell_type": "code",
   "execution_count": 1,
   "metadata": {
    "dotnet_interactive": {
     "language": "csharp"
    },
    "polyglot_notebook": {
     "kernelName": "csharp"
    }
   },
   "outputs": [],
   "source": [
    "using System;\n",
    "using System.Diagnostics;\n",
    "using System.Linq;"
   ]
  },
  {
   "cell_type": "code",
   "execution_count": 2,
   "metadata": {
    "dotnet_interactive": {
     "language": "csharp"
    },
    "polyglot_notebook": {
     "kernelName": "csharp"
    }
   },
   "outputs": [
    {
     "name": "stdout",
     "output_type": "stream",
     "text": [
      "built-in sum: 49995000\n",
      "Time taken:2ms\n"
     ]
    }
   ],
   "source": [
    "var watch = Stopwatch.StartNew();\n",
    "Console.WriteLine(\"built-in sum: \" + Enumerable.Range(0, 10000).Sum());\n",
    "watch.Stop();\n",
    "var elapsedMs = watch.ElapsedMilliseconds;\n",
    "\n",
    "Console.WriteLine(\"Time taken:\" + elapsedMs + \"ms\");"
   ]
  },
  {
   "cell_type": "code",
   "execution_count": 3,
   "metadata": {
    "dotnet_interactive": {
     "language": "csharp"
    },
    "polyglot_notebook": {
     "kernelName": "csharp"
    }
   },
   "outputs": [
    {
     "name": "stdout",
     "output_type": "stream",
     "text": [
      "built-in sum: 4999999950000000\n",
      "Time taken:71ms\n"
     ]
    }
   ],
   "source": [
    "public static long Sum(long n = 100_000_000)\n",
    "{\n",
    "    long sum = 0;\n",
    "    for (long i = 0; i < n; i++)\n",
    "    {\n",
    "      sum += i;\n",
    "    }\n",
    "    return sum;\n",
    "}\n",
    "\n",
    "var watch = Stopwatch.StartNew();\n",
    "Console.WriteLine(\"built-in sum: \" + Sum());\n",
    "watch.Stop();\n",
    "var elapsedMs = watch.ElapsedMilliseconds;\n",
    "Console.WriteLine(\"Time taken:\" + elapsedMs + \"ms\");"
   ]
  },
  {
   "cell_type": "code",
   "execution_count": null,
   "metadata": {
    "dotnet_interactive": {
     "language": "csharp"
    },
    "polyglot_notebook": {
     "kernelName": "csharp"
    }
   },
   "outputs": [],
   "source": [
    "int matrix_size = 32 * 512;\n",
    "var x = new double[matrix_size, matrix_size];\n",
    "var y = new double[matrix_size, matrix_size];\n",
    "var rnd = new Random();\n",
    "for (int i = 0; i < matrix_size; i++)\n",
    "{\n",
    "    for (int j = 0; j < matrix_size; j++)\n",
    "    {\n",
    "        x[i, j] = rnd.NextDouble();\n",
    "        y[i, j] = rnd.NextDouble();\n",
    "    }\n",
    "}\n",
    "\n",
    "var watch = Stopwatch.StartNew();\n",
    "var result = new double[matrix_size, matrix_size];\n",
    "for (int i = 0; i < matrix_size; i++)\n",
    "{\n",
    "    for (int j = 0; j < matrix_size; j++)\n",
    "    {\n",
    "        for (int k = 0; k < matrix_size; k++)\n",
    "        {\n",
    "            result[i, j] += x[i, k] * y[k, j];\n",
    "        }\n",
    "    }\n",
    "}\n",
    "watch.Stop();\n",
    "var elapsedMs = watch.ElapsedMilliseconds;\n",
    "Console.WriteLine(\"Time taken:\" + elapsedMs + \"ms\");"
   ]
  },
  {
   "cell_type": "code",
   "execution_count": 4,
   "metadata": {
    "dotnet_interactive": {
     "language": "csharp"
    },
    "polyglot_notebook": {
     "kernelName": "csharp"
    }
   },
   "outputs": [
    {
     "data": {
      "text/html": [
       "<div><div></div><div></div><div><strong>Installed Packages</strong><ul><li><span>MathNet.Numerics, 5.0.0</span></li></ul></div></div>"
      ]
     },
     "metadata": {},
     "output_type": "display_data"
    }
   ],
   "source": [
    "#r \"nuget: MathNet.Numerics, 5.0.0\""
   ]
  },
  {
   "cell_type": "code",
   "execution_count": 6,
   "metadata": {
    "dotnet_interactive": {
     "language": "csharp"
    },
    "polyglot_notebook": {
     "kernelName": "csharp"
    }
   },
   "outputs": [
    {
     "ename": "Error",
     "evalue": "System.OperationCanceledException: Command :SubmitCode: using MathNet.Numerics.LinearAlgebra;\nusing MathNe ... cancelled.",
     "output_type": "error",
     "traceback": [
      "System.OperationCanceledException: Command :SubmitCode: using MathNet.Numerics.LinearAlgebra;\n",
      "using MathNe ... cancelled."
     ]
    }
   ],
   "source": [
    "using MathNet.Numerics.LinearAlgebra;\n",
    "using MathNet.Numerics.LinearAlgebra.Double;\n",
    "\n",
    "int matrix_size = 32 * 512;\n",
    "var x = Matrix<double>.Build.Random(matrix_size, matrix_size);\n",
    "var y = Matrix<double>.Build.Random(matrix_size, matrix_size);\n",
    "var watch = Stopwatch.StartNew();\n",
    "var result = x.Multiply(y);\n",
    "watch.Stop();\n",
    "var elapsedMs = watch.ElapsedMilliseconds;\n",
    "Console.WriteLine(\"Time taken:\" + elapsedMs + \"ms\");"
   ]
  },
  {
   "attachments": {},
   "cell_type": "markdown",
   "metadata": {
    "dotnet_interactive": {
     "language": "csharp"
    },
    "polyglot_notebook": {
     "kernelName": "csharp"
    }
   },
   "source": []
  }
 ],
 "metadata": {
  "kernelspec": {
   "display_name": ".NET (C#)",
   "language": "C#",
   "name": ".net-csharp"
  },
  "polyglot_notebook": {
   "kernelInfo": {
    "defaultKernelName": "csharp",
    "items": [
     {
      "aliases": [
       "c#",
       "C#"
      ],
      "languageName": "C#",
      "name": "csharp"
     },
     {
      "aliases": [],
      "name": ".NET"
     },
     {
      "aliases": [
       "f#",
       "F#"
      ],
      "languageName": "F#",
      "name": "fsharp"
     },
     {
      "aliases": [],
      "languageName": "HTML",
      "name": "html"
     },
     {
      "aliases": [],
      "languageName": "KQL",
      "name": "kql"
     },
     {
      "aliases": [],
      "languageName": "Mermaid",
      "name": "mermaid"
     },
     {
      "aliases": [
       "powershell"
      ],
      "languageName": "PowerShell",
      "name": "pwsh"
     },
     {
      "aliases": [],
      "languageName": "SQL",
      "name": "sql"
     },
     {
      "aliases": [],
      "name": "value"
     },
     {
      "aliases": [
       "frontend"
      ],
      "name": "vscode"
     }
    ]
   }
  }
 },
 "nbformat": 4,
 "nbformat_minor": 2
}
